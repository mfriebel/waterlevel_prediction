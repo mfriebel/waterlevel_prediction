{
 "cells": [
  {
   "cell_type": "markdown",
   "id": "military-value",
   "metadata": {},
   "source": [
    "# Water level prediction - Aquifer Petrignano\n",
    "#### data : https://www.kaggle.com/c/acea-water-prediction/data\n",
    "#### based on LSTM tutorial by Jason Brownlee: https://machinelearningmastery.com/how-to-develop-lstm-models-for-multi-step-time-series-forecasting-of-household-power-consumption/"
   ]
  },
  {
   "cell_type": "code",
   "execution_count": 1,
   "id": "choice-wells",
   "metadata": {},
   "outputs": [],
   "source": [
    "# Import \n",
    "import pandas as pd\n",
    "import numpy as np\n",
    "import matplotlib.pyplot as plt\n",
    "from datetime import date, datetime, timedelta\n",
    "\n",
    "import tensorflow as tf\n",
    "from tensorflow.keras.layers import Embedding, Dense, LSTM, RepeatVector, TimeDistributed\n",
    "from tensorflow.keras.losses import MeanAbsoluteError, MeanSquaredError\n",
    "from tensorflow.keras.models import Sequential\n",
    "from tensorflow.keras.optimizers import Adam\n",
    "from tensorflow.keras.preprocessing.sequence import pad_sequences\n",
    "\n",
    "from sklearn.preprocessing import MinMaxScaler\n",
    "from sklearn.metrics import mean_squared_error\n",
    "from function_model import series_to_supervised"
   ]
  },
  {
   "cell_type": "code",
   "execution_count": 2,
   "id": "located-claim",
   "metadata": {},
   "outputs": [],
   "source": [
    "df = pd.read_csv(\"./data/Aquifer_Petrignano.csv\", index_col=0, parse_dates=True, dayfirst=True)\n",
    "df.index.freq = 'D'"
   ]
  },
  {
   "cell_type": "code",
   "execution_count": 3,
   "id": "breathing-whale",
   "metadata": {},
   "outputs": [
    {
     "name": "stdout",
     "output_type": "stream",
     "text": [
      "Index(['Rainfall_Bastia_Umbra', 'Depth_to_Groundwater_P24',\n",
      "       'Depth_to_Groundwater_P25', 'Temperature_Bastia_Umbra',\n",
      "       'Temperature_Petrignano', 'Volume_C10_Petrignano',\n",
      "       'Hydrometry_Fiume_Chiascio_Petrignano'],\n",
      "      dtype='object')\n"
     ]
    }
   ],
   "source": [
    "print(df.columns)\n",
    "columns = ['Rf_BU', 'DtG_P24', 'DtG_P25', 'T_BU', 'T_Pe', 'V_Pe', 'H_FCP']\n",
    "columns_dict = {'Rf_BU' : 'Rainfall - \\n Bastia Umbra \\n [mm]', 'DtG_P24' : 'Depth to \\n Groundwater \\n (P24) [m]', 'DtG_P25' : 'Depth to \\n Groundwater \\n (P25) [m]', \n",
    "                'T_BU' : 'Temperature - \\n Bastia Umbra \\n [mm]', 'T_Pe' : 'Temperature - \\n Petrignano [mm]', 'V_Pe' : 'Drainage [m3]', 'H_FCP' : 'Hydrometry [m]'}\n",
    "df.columns = columns"
   ]
  },
  {
   "cell_type": "code",
   "execution_count": 4,
   "id": "satellite-premiere",
   "metadata": {},
   "outputs": [],
   "source": [
    "df_LSTM = df.copy()\n",
    "\n",
    "df_LSTM['T_Pe'] = np.where(((df['T_Pe'] == 0) & (df['T_Pe'].shift(1) == 0)) | (df['T_Pe'].diff(-1) > 10) | ((df['T_Pe'] == 0) & (df['T_Pe'].shift(-1) == 0)), np.nan, df['T_Pe'])\n",
    "df_LSTM['V_Pe'] = np.where(df['V_Pe'] == 0, np.nan, df['V_Pe'])\n",
    "df_LSTM['H_FCP'] = np.where(df['H_FCP'] == 0, np.nan, df['H_FCP'])\n",
    "df_LSTM['T_Pe'] = df['T_Pe'].fillna(df['T_BU'])\n",
    "\n",
    "df_LSTM['V_Pe'] = df_LSTM['V_Pe'].interpolate()\n",
    "df_LSTM['H_FCP'] = df_LSTM['H_FCP'].interpolate()\n",
    "df_LSTM['DtG_P25'] = df_LSTM['DtG_P25'].interpolate()\n",
    "df_LSTM['DtG_P24'] = df_LSTM['DtG_P24'].interpolate()\n",
    "\n",
    "#col_mean = ['DtG_P25', 'V_Pe', 'H_FCP', 'T_BU']\n",
    "#col_sum = ['Rf_BU']\n",
    "#df_LSTM_weekly = df_LSTM[col_mean].resample('W').mean()\n",
    "#df_LSTM_weekly['Rf_BU'] = df_LSTM[col_sum].resample('W').sum()\n",
    "cols = ['DtG_P25', 'V_Pe', 'H_FCP', 'T_BU', 'Rf_BU']\n",
    "df_LSTM = df_LSTM.loc['2009':]\n",
    "df_LSTM = df_LSTM[cols]\n"
   ]
  },
  {
   "cell_type": "code",
   "execution_count": 5,
   "id": "hydraulic-steel",
   "metadata": {},
   "outputs": [
    {
     "data": {
      "text/html": [
       "<div>\n",
       "<style scoped>\n",
       "    .dataframe tbody tr th:only-of-type {\n",
       "        vertical-align: middle;\n",
       "    }\n",
       "\n",
       "    .dataframe tbody tr th {\n",
       "        vertical-align: top;\n",
       "    }\n",
       "\n",
       "    .dataframe thead th {\n",
       "        text-align: right;\n",
       "    }\n",
       "</style>\n",
       "<table border=\"1\" class=\"dataframe\">\n",
       "  <thead>\n",
       "    <tr style=\"text-align: right;\">\n",
       "      <th></th>\n",
       "      <th>DtG_P25</th>\n",
       "      <th>V_Pe</th>\n",
       "      <th>H_FCP</th>\n",
       "      <th>T_BU</th>\n",
       "      <th>Rf_BU</th>\n",
       "    </tr>\n",
       "    <tr>\n",
       "      <th>Date</th>\n",
       "      <th></th>\n",
       "      <th></th>\n",
       "      <th></th>\n",
       "      <th></th>\n",
       "      <th></th>\n",
       "    </tr>\n",
       "  </thead>\n",
       "  <tbody>\n",
       "    <tr>\n",
       "      <th>2009-01-01</th>\n",
       "      <td>-31.14</td>\n",
       "      <td>-24530.688</td>\n",
       "      <td>2.4</td>\n",
       "      <td>5.2</td>\n",
       "      <td>0.0</td>\n",
       "    </tr>\n",
       "    <tr>\n",
       "      <th>2009-01-02</th>\n",
       "      <td>-31.11</td>\n",
       "      <td>-28785.888</td>\n",
       "      <td>2.5</td>\n",
       "      <td>2.3</td>\n",
       "      <td>0.0</td>\n",
       "    </tr>\n",
       "    <tr>\n",
       "      <th>2009-01-03</th>\n",
       "      <td>-31.07</td>\n",
       "      <td>-25766.208</td>\n",
       "      <td>2.4</td>\n",
       "      <td>4.4</td>\n",
       "      <td>0.0</td>\n",
       "    </tr>\n",
       "    <tr>\n",
       "      <th>2009-01-04</th>\n",
       "      <td>-31.05</td>\n",
       "      <td>-27919.296</td>\n",
       "      <td>2.4</td>\n",
       "      <td>0.8</td>\n",
       "      <td>0.0</td>\n",
       "    </tr>\n",
       "    <tr>\n",
       "      <th>2009-01-05</th>\n",
       "      <td>-31.01</td>\n",
       "      <td>-29854.656</td>\n",
       "      <td>2.3</td>\n",
       "      <td>-1.9</td>\n",
       "      <td>0.0</td>\n",
       "    </tr>\n",
       "    <tr>\n",
       "      <th>...</th>\n",
       "      <td>...</td>\n",
       "      <td>...</td>\n",
       "      <td>...</td>\n",
       "      <td>...</td>\n",
       "      <td>...</td>\n",
       "    </tr>\n",
       "    <tr>\n",
       "      <th>2020-06-26</th>\n",
       "      <td>-25.07</td>\n",
       "      <td>-29930.688</td>\n",
       "      <td>2.5</td>\n",
       "      <td>25.7</td>\n",
       "      <td>0.0</td>\n",
       "    </tr>\n",
       "    <tr>\n",
       "      <th>2020-06-27</th>\n",
       "      <td>-25.11</td>\n",
       "      <td>-31332.960</td>\n",
       "      <td>2.4</td>\n",
       "      <td>26.2</td>\n",
       "      <td>0.0</td>\n",
       "    </tr>\n",
       "    <tr>\n",
       "      <th>2020-06-28</th>\n",
       "      <td>-25.19</td>\n",
       "      <td>-32120.928</td>\n",
       "      <td>2.4</td>\n",
       "      <td>26.9</td>\n",
       "      <td>0.0</td>\n",
       "    </tr>\n",
       "    <tr>\n",
       "      <th>2020-06-29</th>\n",
       "      <td>-25.18</td>\n",
       "      <td>-30602.880</td>\n",
       "      <td>2.4</td>\n",
       "      <td>26.9</td>\n",
       "      <td>0.0</td>\n",
       "    </tr>\n",
       "    <tr>\n",
       "      <th>2020-06-30</th>\n",
       "      <td>-25.25</td>\n",
       "      <td>-31878.144</td>\n",
       "      <td>2.4</td>\n",
       "      <td>27.3</td>\n",
       "      <td>0.0</td>\n",
       "    </tr>\n",
       "  </tbody>\n",
       "</table>\n",
       "<p>4199 rows × 5 columns</p>\n",
       "</div>"
      ],
      "text/plain": [
       "            DtG_P25       V_Pe  H_FCP  T_BU  Rf_BU\n",
       "Date                                              \n",
       "2009-01-01   -31.14 -24530.688    2.4   5.2    0.0\n",
       "2009-01-02   -31.11 -28785.888    2.5   2.3    0.0\n",
       "2009-01-03   -31.07 -25766.208    2.4   4.4    0.0\n",
       "2009-01-04   -31.05 -27919.296    2.4   0.8    0.0\n",
       "2009-01-05   -31.01 -29854.656    2.3  -1.9    0.0\n",
       "...             ...        ...    ...   ...    ...\n",
       "2020-06-26   -25.07 -29930.688    2.5  25.7    0.0\n",
       "2020-06-27   -25.11 -31332.960    2.4  26.2    0.0\n",
       "2020-06-28   -25.19 -32120.928    2.4  26.9    0.0\n",
       "2020-06-29   -25.18 -30602.880    2.4  26.9    0.0\n",
       "2020-06-30   -25.25 -31878.144    2.4  27.3    0.0\n",
       "\n",
       "[4199 rows x 5 columns]"
      ]
     },
     "execution_count": 5,
     "metadata": {},
     "output_type": "execute_result"
    }
   ],
   "source": [
    "df_LSTM"
   ]
  },
  {
   "cell_type": "code",
   "execution_count": 6,
   "id": "endless-puzzle",
   "metadata": {},
   "outputs": [],
   "source": [
    "def split_dataset(data):\n",
    "    # split into standard weeks\n",
    "    train, test = data[29:-120], data[-120:]\n",
    "    # restructure into windows of weekly data\n",
    "    train = np.array(np.split(train, len(train)/30))\n",
    "    test = np.array(np.split(test, len(test)/30))\n",
    "    return train, test"
   ]
  },
  {
   "cell_type": "code",
   "execution_count": 7,
   "id": "documented-society",
   "metadata": {},
   "outputs": [],
   "source": [
    "# convert history into inputs and outputs\n",
    "def to_supervised_uni(train, n_input, n_out=30):\n",
    "    # flatten data\n",
    "    data = train.reshape((train.shape[0]*train.shape[1], train.shape[2]))\n",
    "    X, y = list(), list()\n",
    "    in_start = 0\n",
    "    # step over the entire history one time step at a time\n",
    "    for _ in range(len(data)):\n",
    "    # define the end of the input sequence\n",
    "        in_end = in_start + n_input\n",
    "        out_end = in_end + n_out\n",
    "        # ensure we have enough data for this instance\n",
    "        if out_end <= len(data):\n",
    "            x_input = data[in_start:in_end, 0]\n",
    "            x_input = x_input.reshape((len(x_input), 1))\n",
    "            X.append(x_input)\n",
    "            y.append(data[in_end:out_end, 0])\n",
    "            # move along one time step\n",
    "            in_start += 1\n",
    "    return np.array(X), np.array(y)"
   ]
  },
  {
   "cell_type": "code",
   "execution_count": 8,
   "id": "norwegian-bumper",
   "metadata": {},
   "outputs": [],
   "source": [
    "# convert history into inputs and outputs\n",
    "def to_supervised_multi(train, n_input, n_out=30):\n",
    "    # flatten data\n",
    "    data = train.reshape((train.shape[0]*train.shape[1], train.shape[2]))\n",
    "    X, y = list(), list()\n",
    "    in_start = 0\n",
    "    # step over the entire history one time step at a time\n",
    "    for _ in range(len(data)):\n",
    "    # define the end of the input sequence\n",
    "        in_end = in_start + n_input\n",
    "        out_end = in_end + n_out\n",
    "        # ensure we have enough data for this instance\n",
    "        if out_end <= len(data):\n",
    "            #x_input = data[in_start:in_end, 0]\n",
    "            #x_input = x_input.reshape((len(x_input), 1))\n",
    "            #X.append(x_input)\n",
    "            X.append(data[in_start:in_end, :])\n",
    "            y.append(data[in_end:out_end, 0])\n",
    "            # move along one time step\n",
    "            in_start += 1\n",
    "    return np.array(X), np.array(y)"
   ]
  },
  {
   "cell_type": "code",
   "execution_count": 9,
   "id": "automatic-roller",
   "metadata": {},
   "outputs": [],
   "source": [
    "# evaluate one or more weekly forecasts against expected values\n",
    "def evaluate_forecasts(actual, predicted):\n",
    "    scores = list()\n",
    "    # calculate an RMSE score for each day\n",
    "    for i in range(actual.shape[1]):\n",
    "        # calculate mse\n",
    "        mse = mean_squared_error(actual[:, i], predicted[:, i])\n",
    "        # calculate rmse\n",
    "        rmse = np.sqrt(mse)\n",
    "        # store\n",
    "        scores.append(rmse)\n",
    "    # calculate overall RMSE\n",
    "    s = 0\n",
    "    for row in range(actual.shape[0]):\n",
    "        for col in range(actual.shape[1]):\n",
    "            s += (actual[row, col] - predicted[row, col])**2\n",
    "    score = np.sqrt(s / (actual.shape[0] * actual.shape[1]))\n",
    "    return score, scores"
   ]
  },
  {
   "cell_type": "code",
   "execution_count": 10,
   "id": "martial-appraisal",
   "metadata": {},
   "outputs": [],
   "source": [
    "# summarize scores\n",
    "def summarize_scores(name, score, scores):\n",
    "    s_scores = ', '.join(['%.1f' % s for s in scores])\n",
    "    print('%s: [%.3f] %s' % (name, score, s_scores))"
   ]
  },
  {
   "cell_type": "code",
   "execution_count": 129,
   "id": "chief-cliff",
   "metadata": {},
   "outputs": [],
   "source": [
    "# train the model\n",
    "def build_model_uni(train, n_input):\n",
    "    # prepare data\n",
    "    train_x, train_y = to_supervised_uni(train, n_input)\n",
    "    # define parameters\n",
    "    verbose, epochs, batch_size = 1, 20, 16\n",
    "    n_timesteps, n_features, n_outputs = train_x.shape[1], train_x.shape[2], train_y.shape[1]\n",
    "    # define model\n",
    "    model = Sequential()\n",
    "    model.add(LSTM(100, activation='relu', input_shape=(n_timesteps, n_features)))\n",
    "    model.add(Dense(40, activation='relu'))\n",
    "    model.add(Dense(n_outputs))\n",
    "    model.compile(loss='mse', optimizer='adam')\n",
    "    # fit network\n",
    "    model.fit(train_x, train_y, epochs=epochs, batch_size=batch_size, verbose=verbose)\n",
    "    return model"
   ]
  },
  {
   "cell_type": "code",
   "execution_count": 130,
   "id": "preceding-korean",
   "metadata": {},
   "outputs": [],
   "source": [
    "# train the model\n",
    "def build_model_multi(train, n_input):\n",
    "    # prepare data\n",
    "    train_x, train_y = to_supervised_multi(train, n_input)\n",
    "    # define parameters\n",
    "    verbose, epochs, batch_size = 1, 20, 16\n",
    "    n_timesteps, n_features, n_outputs = train_x.shape[1], train_x.shape[2], train_y.shape[1]\n",
    "    # define model\n",
    "    model = Sequential()\n",
    "    model.add(LSTM(100, activation='relu', input_shape=(n_timesteps, n_features)))\n",
    "    model.add(Dense(40, activation='relu'))\n",
    "    model.add(Dense(n_outputs))\n",
    "    model.compile(loss='mse', optimizer='adam')\n",
    "    # fit network\n",
    "    model.fit(train_x, train_y, epochs=epochs, batch_size=batch_size, verbose=verbose)\n",
    "    return model"
   ]
  },
  {
   "cell_type": "code",
   "execution_count": 189,
   "id": "comparative-bibliography",
   "metadata": {},
   "outputs": [],
   "source": [
    "# train the model\n",
    "def build_model_encdec(train, n_input):\n",
    "    # prepare data\n",
    "    train_x, train_y = to_supervised_multi(train, n_input)\n",
    "    # reshape output into [samples, timesteps, features]\n",
    "    train_y = train_y.reshape(train_y.shape[0], train_y.shape[1], 1)\n",
    "    # define parameters\n",
    "    verbose, epochs, batch_size = 1, 20, 16\n",
    "    n_timesteps, n_features, n_outputs = train_x.shape[1], train_x.shape[2], train_y.shape[1]\n",
    "    # define model\n",
    "    model = Sequential()\n",
    "    model.add(LSTM(25, activation='relu', input_shape=(n_timesteps, n_features)))\n",
    "    model.add(RepeatVector(n_outputs))\n",
    "    model.add(LSTM(25, activation='relu', return_sequences=True))\n",
    "    model.add(TimeDistributed(Dense(10, activation='relu')))\n",
    "    #model.add(Dense(40, activation='relu'))\n",
    "    #model.add(Dense(n_outputs))\n",
    "    model.add(TimeDistributed(Dense(1)))\n",
    "    model.compile(loss='mse', optimizer='adam')\n",
    "    # fit network\n",
    "    model.fit(train_x, train_y, epochs=epochs, batch_size=batch_size, verbose=verbose)\n",
    "    return model"
   ]
  },
  {
   "cell_type": "code",
   "execution_count": 190,
   "id": "tired-edwards",
   "metadata": {},
   "outputs": [],
   "source": [
    "# make a forecast\n",
    "def forecast_uni(model, history, n_input):\n",
    "    # flatten data\n",
    "    data = np.array(history)\n",
    "    data = data.reshape((data.shape[0]*data.shape[1], data.shape[2]))\n",
    "    # retrieve last observations for input data\n",
    "    input_x = data[-n_input:, 0]\n",
    "    # reshape into [1, n_input, 1]\n",
    "    input_x = input_x.reshape((1, len(input_x), 1))\n",
    "    # forecast the next week\n",
    "    yhat = model.predict(input_x, verbose=0)\n",
    "    # we only want the vector forecast\n",
    "    yhat = yhat[0]\n",
    "    return yhat"
   ]
  },
  {
   "cell_type": "code",
   "execution_count": 191,
   "id": "matched-committee",
   "metadata": {},
   "outputs": [],
   "source": [
    "# make a forecast\n",
    "def forecast_multi(model, history, n_input):\n",
    "    # flatten data\n",
    "    data = np.array(history)\n",
    "    data = data.reshape((data.shape[0]*data.shape[1], data.shape[2]))\n",
    "    # retrieve last observations for input data\n",
    "    input_x = data[-n_input:, :]\n",
    "    # reshape into [1, n_input, 1]\n",
    "    input_x = input_x.reshape((1, input_x.shape[0], input_x.shape[1]))\n",
    "    # forecast the next week\n",
    "    yhat = model.predict(input_x, verbose=0)\n",
    "    # we only want the vector forecast\n",
    "    yhat = yhat[0]\n",
    "    return yhat"
   ]
  },
  {
   "cell_type": "code",
   "execution_count": 192,
   "id": "several-arabic",
   "metadata": {},
   "outputs": [],
   "source": [
    "# evaluate a single model\n",
    "def evaluate_model(train, test, n_input):\n",
    "    # fit model\n",
    "    model = build_model_encdec(train, n_input)\n",
    "    # history is a list of weekly data\n",
    "    history = [x for x in train]\n",
    "    # walk-forward validation over each week\n",
    "    predictions = list()\n",
    "    for i in range(len(test)):\n",
    "        # predict the week\n",
    "        yhat_sequence = forecast_multi(model, history, n_input)\n",
    "        # store the predictions\n",
    "        predictions.append(yhat_sequence)\n",
    "        # get real observation and add to history for predicting the next week\n",
    "        history.append(test[i, :])\n",
    "    # evaluate predictions days for each week\n",
    "    predictions = np.array(predictions)\n",
    "    score, scores = evaluate_forecasts(test[:, :, 0], predictions)\n",
    "    return score, scores, predictions"
   ]
  },
  {
   "cell_type": "code",
   "execution_count": 193,
   "id": "laden-warehouse",
   "metadata": {},
   "outputs": [
    {
     "data": {
      "text/plain": [
       "14.61"
      ]
     },
     "execution_count": 193,
     "metadata": {},
     "output_type": "execute_result"
    }
   ],
   "source": [
    "df_LSTM['DtG_P25'].max()-df_LSTM['DtG_P25'].min()"
   ]
  },
  {
   "cell_type": "code",
   "execution_count": 194,
   "id": "radical-worry",
   "metadata": {},
   "outputs": [],
   "source": [
    "scaler = MinMaxScaler()\n",
    "scaler.fit(df_LSTM)\n",
    "LSTM_scaled = scaler.transform(df_LSTM)"
   ]
  },
  {
   "cell_type": "code",
   "execution_count": 195,
   "id": "endangered-joseph",
   "metadata": {},
   "outputs": [],
   "source": [
    "# split into train and test\n",
    "train, test = split_dataset(LSTM_scaled)"
   ]
  },
  {
   "cell_type": "code",
   "execution_count": 196,
   "id": "undefined-excitement",
   "metadata": {},
   "outputs": [
    {
     "name": "stdout",
     "output_type": "stream",
     "text": [
      "Epoch 1/20\n",
      "250/250 [==============================] - 7s 18ms/step - loss: 0.0495\n",
      "Epoch 2/20\n",
      "250/250 [==============================] - 4s 17ms/step - loss: 8.3717e-04\n",
      "Epoch 3/20\n",
      "250/250 [==============================] - 4s 17ms/step - loss: 6.1701e-04\n",
      "Epoch 4/20\n",
      "250/250 [==============================] - 4s 18ms/step - loss: 5.3104e-04\n",
      "Epoch 5/20\n",
      "250/250 [==============================] - 4s 17ms/step - loss: 5.0094e-04\n",
      "Epoch 6/20\n",
      "250/250 [==============================] - 4s 17ms/step - loss: 5.0344e-04\n",
      "Epoch 7/20\n",
      "250/250 [==============================] - 4s 17ms/step - loss: 4.4437e-04\n",
      "Epoch 8/20\n",
      "250/250 [==============================] - 4s 17ms/step - loss: 4.3258e-04\n",
      "Epoch 9/20\n",
      "250/250 [==============================] - 4s 17ms/step - loss: 4.0368e-04\n",
      "Epoch 10/20\n",
      "250/250 [==============================] - 4s 17ms/step - loss: 3.9810e-04\n",
      "Epoch 11/20\n",
      "250/250 [==============================] - 4s 17ms/step - loss: 3.5542e-04\n",
      "Epoch 12/20\n",
      "250/250 [==============================] - 4s 17ms/step - loss: 3.3123e-04\n",
      "Epoch 13/20\n",
      "250/250 [==============================] - 4s 17ms/step - loss: 4.2379e-04\n",
      "Epoch 14/20\n",
      "250/250 [==============================] - 4s 17ms/step - loss: 3.4315e-04\n",
      "Epoch 15/20\n",
      "250/250 [==============================] - 4s 18ms/step - loss: 3.3743e-04\n",
      "Epoch 16/20\n",
      "250/250 [==============================] - 4s 17ms/step - loss: 3.7580e-04\n",
      "Epoch 17/20\n",
      "250/250 [==============================] - 4s 18ms/step - loss: 3.2560e-04\n",
      "Epoch 18/20\n",
      "250/250 [==============================] - 4s 17ms/step - loss: 3.2588e-04\n",
      "Epoch 19/20\n",
      "250/250 [==============================] - 4s 17ms/step - loss: 3.2157e-04\n",
      "Epoch 20/20\n",
      "250/250 [==============================] - 4s 17ms/step - loss: 3.0447e-04\n"
     ]
    }
   ],
   "source": [
    "# evaluate model and get scores\n",
    "n_input = 30\n",
    "score, scores, predictions = evaluate_model(train, test, n_input)"
   ]
  },
  {
   "cell_type": "code",
   "execution_count": 197,
   "id": "formed-theater",
   "metadata": {},
   "outputs": [
    {
     "name": "stdout",
     "output_type": "stream",
     "text": [
      "lstm: [0.013] 0.0, 0.0, 0.0, 0.0, 0.0, 0.0, 0.0, 0.0, 0.0, 0.0, 0.0, 0.0, 0.0, 0.0, 0.0, 0.0, 0.0, 0.0, 0.0, 0.0, 0.0, 0.0, 0.0, 0.0, 0.0, 0.0, 0.0, 0.0, 0.0, 0.0\n"
     ]
    }
   ],
   "source": [
    "# summarize scores\n",
    "summarize_scores('lstm', score, scores)"
   ]
  },
  {
   "cell_type": "code",
   "execution_count": 198,
   "id": "welcome-appointment",
   "metadata": {},
   "outputs": [
    {
     "data": {
      "image/png": "[encoded data removed]",
      "text/plain": [
       "<Figure size 432x288 with 1 Axes>"
      ]
     },
     "metadata": {
      "needs_background": "light"
     },
     "output_type": "display_data"
    }
   ],
   "source": [
    "# plot scores\n",
    "plt.plot(scores, marker='o', label='lstm')\n",
    "plt.show()"
   ]
  },
  {
   "cell_type": "code",
   "execution_count": 199,
   "id": "color-morning",
   "metadata": {},
   "outputs": [],
   "source": [
    "m = scaler.data_max_[0] - scaler.data_min_[0]\n",
    "n = scaler.data_min_[0]"
   ]
  },
  {
   "cell_type": "code",
   "execution_count": 200,
   "id": "broke-spokesman",
   "metadata": {},
   "outputs": [],
   "source": [
    "test_rescaled = test[:, :, 0].reshape(-1) * m + n\n",
    "predictions_rescaled = predictions.reshape(-1) * m + n"
   ]
  },
  {
   "cell_type": "code",
   "execution_count": 201,
   "id": "impossible-friendly",
   "metadata": {},
   "outputs": [
    {
     "data": {
      "image/png": "[encoded data removed]",
      "text/plain": [
       "<Figure size 432x288 with 1 Axes>"
      ]
     },
     "metadata": {
      "needs_background": "light"
     },
     "output_type": "display_data"
    }
   ],
   "source": [
    "plt.plot(test_rescaled)\n",
    "plt.plot(predictions_rescaled )\n",
    "plt.show()"
   ]
  },
  {
   "cell_type": "code",
   "execution_count": 202,
   "id": "adaptive-exclusion",
   "metadata": {},
   "outputs": [],
   "source": [
    "RSME = np.sqrt(np.mean((test_rescaled - predictions_rescaled)**2))"
   ]
  },
  {
   "cell_type": "code",
   "execution_count": 203,
   "id": "mental-cache",
   "metadata": {},
   "outputs": [
    {
     "data": {
      "text/plain": [
       "0.1966064049120099"
      ]
     },
     "execution_count": 203,
     "metadata": {},
     "output_type": "execute_result"
    }
   ],
   "source": [
    "RSME"
   ]
  },
  {
   "cell_type": "code",
   "execution_count": null,
   "id": "liquid-virtue",
   "metadata": {},
   "outputs": [],
   "source": []
  }
 ],
 "metadata": {
  "kernelspec": {
   "display_name": "Python 3",
   "language": "python",
   "name": "python3"
  },
  "language_info": {
   "codemirror_mode": {
    "name": "ipython",
    "version": 3
   },
   "file_extension": ".py",
   "mimetype": "text/x-python",
   "name": "python",
   "nbconvert_exporter": "python",
   "pygments_lexer": "ipython3",
   "version": "3.7.9"
  }
 },
 "nbformat": 4,
 "nbformat_minor": 5
}
